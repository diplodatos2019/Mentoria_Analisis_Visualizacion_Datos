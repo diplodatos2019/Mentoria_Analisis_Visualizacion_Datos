{
 "cells": [
  {
   "cell_type": "markdown",
   "metadata": {},
   "source": [
    "# Practico Mentoria - Analisis y Visualizacion de Datos"
   ]
  },
  {
   "cell_type": "markdown",
   "metadata": {},
   "source": [
    "---"
   ]
  },
  {
   "cell_type": "markdown",
   "metadata": {},
   "source": [
    "### Importaciones"
   ]
  },
  {
   "cell_type": "code",
   "execution_count": 1,
   "metadata": {},
   "outputs": [],
   "source": [
    "%matplotlib inline\n",
    "\n",
    "import numpy as np\n",
    "import pandas as pd\n",
    "import matplotlib.pyplot as plt\n",
    "import seaborn as sns\n",
    "import scipy as sp\n",
    "from scipy.stats import variation, zscore, kstest, norm\n",
    "\n",
    "from collections import OrderedDict\n",
    "from IPython.display import display\n",
    "\n",
    "import warnings\n",
    "warnings.filterwarnings('ignore')"
   ]
  },
  {
   "cell_type": "code",
   "execution_count": 2,
   "metadata": {},
   "outputs": [],
   "source": [
    "sns.set_style(\"whitegrid\")\n",
    "sns.set_context('talk')"
   ]
  },
  {
   "cell_type": "code",
   "execution_count": 3,
   "metadata": {},
   "outputs": [],
   "source": [
    "# Seteamos una semilla para Reproducibilidad\n",
    "np.random.seed(1)"
   ]
  },
  {
   "cell_type": "markdown",
   "metadata": {},
   "source": [
    "---"
   ]
  },
  {
   "cell_type": "markdown",
   "metadata": {},
   "source": [
    "### Carga de los Datesets"
   ]
  },
  {
   "cell_type": "code",
   "execution_count": 4,
   "metadata": {},
   "outputs": [],
   "source": [
    "df_player = pd.read_csv('./Datasets/football_player.csv')\n",
    "df_team = pd.read_csv('./Datasets/football_team.csv')\n",
    "df_match = pd.read_csv('./Datasets/football_match.csv')"
   ]
  },
  {
   "cell_type": "markdown",
   "metadata": {},
   "source": [
    "### Exploremos un poco los Datasets"
   ]
  },
  {
   "cell_type": "markdown",
   "metadata": {},
   "source": [
    "> #### Players Dataset"
   ]
  },
  {
   "cell_type": "code",
   "execution_count": 5,
   "metadata": {},
   "outputs": [
    {
     "name": "stdout",
     "output_type": "stream",
     "text": [
      "Shape = (9925, 44)\n"
     ]
    }
   ],
   "source": [
    "print(\"Shape = {}\".format(df_player.shape))"
   ]
  },
  {
   "cell_type": "code",
   "execution_count": 6,
   "metadata": {},
   "outputs": [
    {
     "data": {
      "text/html": [
       "<div>\n",
       "<style scoped>\n",
       "    .dataframe tbody tr th:only-of-type {\n",
       "        vertical-align: middle;\n",
       "    }\n",
       "\n",
       "    .dataframe tbody tr th {\n",
       "        vertical-align: top;\n",
       "    }\n",
       "\n",
       "    .dataframe thead th {\n",
       "        text-align: right;\n",
       "    }\n",
       "</style>\n",
       "<table border=\"1\" class=\"dataframe\">\n",
       "  <thead>\n",
       "    <tr style=\"text-align: right;\">\n",
       "      <th></th>\n",
       "      <th>player_name</th>\n",
       "      <th>birthday</th>\n",
       "      <th>age</th>\n",
       "      <th>height_m</th>\n",
       "      <th>weight_kg</th>\n",
       "      <th>imc</th>\n",
       "      <th>overall_rating</th>\n",
       "      <th>potential</th>\n",
       "      <th>preferred_foot</th>\n",
       "      <th>attacking_work_rate</th>\n",
       "      <th>...</th>\n",
       "      <th>vision</th>\n",
       "      <th>penalties</th>\n",
       "      <th>marking</th>\n",
       "      <th>standing_tackle</th>\n",
       "      <th>sliding_tackle</th>\n",
       "      <th>gk_diving</th>\n",
       "      <th>gk_handling</th>\n",
       "      <th>gk_kicking</th>\n",
       "      <th>gk_positioning</th>\n",
       "      <th>gk_reflexes</th>\n",
       "    </tr>\n",
       "  </thead>\n",
       "  <tbody>\n",
       "    <tr>\n",
       "      <th>858</th>\n",
       "      <td>Ariel Borysiuk</td>\n",
       "      <td>1991-07-29</td>\n",
       "      <td>24</td>\n",
       "      <td>1.80</td>\n",
       "      <td>69.85</td>\n",
       "      <td>21.48</td>\n",
       "      <td>66.12</td>\n",
       "      <td>74.38</td>\n",
       "      <td>right</td>\n",
       "      <td>medium</td>\n",
       "      <td>...</td>\n",
       "      <td>70.46</td>\n",
       "      <td>49.21</td>\n",
       "      <td>51.58</td>\n",
       "      <td>63.58</td>\n",
       "      <td>63.08</td>\n",
       "      <td>12.71</td>\n",
       "      <td>13.04</td>\n",
       "      <td>18.71</td>\n",
       "      <td>15.54</td>\n",
       "      <td>13.04</td>\n",
       "    </tr>\n",
       "    <tr>\n",
       "      <th>8529</th>\n",
       "      <td>Sava Miladinovic Bento</td>\n",
       "      <td>1991-01-02</td>\n",
       "      <td>25</td>\n",
       "      <td>1.83</td>\n",
       "      <td>72.12</td>\n",
       "      <td>21.56</td>\n",
       "      <td>58.00</td>\n",
       "      <td>64.43</td>\n",
       "      <td>right</td>\n",
       "      <td>medium</td>\n",
       "      <td>...</td>\n",
       "      <td>59.64</td>\n",
       "      <td>49.50</td>\n",
       "      <td>41.64</td>\n",
       "      <td>46.57</td>\n",
       "      <td>40.07</td>\n",
       "      <td>8.00</td>\n",
       "      <td>8.00</td>\n",
       "      <td>8.00</td>\n",
       "      <td>7.00</td>\n",
       "      <td>14.00</td>\n",
       "    </tr>\n",
       "    <tr>\n",
       "      <th>2527</th>\n",
       "      <td>Dusan Tadic</td>\n",
       "      <td>1988-11-20</td>\n",
       "      <td>27</td>\n",
       "      <td>1.80</td>\n",
       "      <td>76.20</td>\n",
       "      <td>23.43</td>\n",
       "      <td>78.16</td>\n",
       "      <td>81.88</td>\n",
       "      <td>left</td>\n",
       "      <td>medium</td>\n",
       "      <td>...</td>\n",
       "      <td>84.32</td>\n",
       "      <td>76.28</td>\n",
       "      <td>39.96</td>\n",
       "      <td>35.56</td>\n",
       "      <td>27.56</td>\n",
       "      <td>10.16</td>\n",
       "      <td>10.16</td>\n",
       "      <td>12.56</td>\n",
       "      <td>8.16</td>\n",
       "      <td>15.16</td>\n",
       "    </tr>\n",
       "    <tr>\n",
       "      <th>8473</th>\n",
       "      <td>Samuel Souprayen</td>\n",
       "      <td>1989-02-18</td>\n",
       "      <td>27</td>\n",
       "      <td>1.88</td>\n",
       "      <td>74.84</td>\n",
       "      <td>21.18</td>\n",
       "      <td>64.24</td>\n",
       "      <td>71.76</td>\n",
       "      <td>left</td>\n",
       "      <td>medium</td>\n",
       "      <td>...</td>\n",
       "      <td>46.52</td>\n",
       "      <td>42.71</td>\n",
       "      <td>65.62</td>\n",
       "      <td>65.19</td>\n",
       "      <td>66.90</td>\n",
       "      <td>8.33</td>\n",
       "      <td>10.95</td>\n",
       "      <td>15.19</td>\n",
       "      <td>14.19</td>\n",
       "      <td>14.19</td>\n",
       "    </tr>\n",
       "    <tr>\n",
       "      <th>1958</th>\n",
       "      <td>Daniele Croce</td>\n",
       "      <td>1982-09-09</td>\n",
       "      <td>33</td>\n",
       "      <td>1.73</td>\n",
       "      <td>68.04</td>\n",
       "      <td>22.81</td>\n",
       "      <td>67.68</td>\n",
       "      <td>67.68</td>\n",
       "      <td>right</td>\n",
       "      <td>high</td>\n",
       "      <td>...</td>\n",
       "      <td>68.47</td>\n",
       "      <td>59.74</td>\n",
       "      <td>52.26</td>\n",
       "      <td>56.89</td>\n",
       "      <td>59.53</td>\n",
       "      <td>11.74</td>\n",
       "      <td>11.74</td>\n",
       "      <td>5.74</td>\n",
       "      <td>7.74</td>\n",
       "      <td>12.74</td>\n",
       "    </tr>\n",
       "    <tr>\n",
       "      <th>4555</th>\n",
       "      <td>John Arne Riise</td>\n",
       "      <td>1980-09-24</td>\n",
       "      <td>35</td>\n",
       "      <td>1.88</td>\n",
       "      <td>82.10</td>\n",
       "      <td>23.24</td>\n",
       "      <td>76.32</td>\n",
       "      <td>77.64</td>\n",
       "      <td>left</td>\n",
       "      <td>high</td>\n",
       "      <td>...</td>\n",
       "      <td>64.14</td>\n",
       "      <td>70.59</td>\n",
       "      <td>75.45</td>\n",
       "      <td>79.59</td>\n",
       "      <td>80.59</td>\n",
       "      <td>13.27</td>\n",
       "      <td>10.09</td>\n",
       "      <td>33.14</td>\n",
       "      <td>13.50</td>\n",
       "      <td>13.68</td>\n",
       "    </tr>\n",
       "    <tr>\n",
       "      <th>8408</th>\n",
       "      <td>Saidy Janko</td>\n",
       "      <td>1995-10-22</td>\n",
       "      <td>20</td>\n",
       "      <td>1.78</td>\n",
       "      <td>69.85</td>\n",
       "      <td>22.10</td>\n",
       "      <td>62.13</td>\n",
       "      <td>76.53</td>\n",
       "      <td>right</td>\n",
       "      <td>high</td>\n",
       "      <td>...</td>\n",
       "      <td>41.00</td>\n",
       "      <td>51.20</td>\n",
       "      <td>58.53</td>\n",
       "      <td>65.87</td>\n",
       "      <td>64.60</td>\n",
       "      <td>5.27</td>\n",
       "      <td>9.27</td>\n",
       "      <td>7.27</td>\n",
       "      <td>13.27</td>\n",
       "      <td>7.27</td>\n",
       "    </tr>\n",
       "    <tr>\n",
       "      <th>3743</th>\n",
       "      <td>Helder Postiga</td>\n",
       "      <td>1982-08-02</td>\n",
       "      <td>33</td>\n",
       "      <td>1.80</td>\n",
       "      <td>76.20</td>\n",
       "      <td>23.43</td>\n",
       "      <td>76.04</td>\n",
       "      <td>76.93</td>\n",
       "      <td>right</td>\n",
       "      <td>high</td>\n",
       "      <td>...</td>\n",
       "      <td>67.15</td>\n",
       "      <td>70.59</td>\n",
       "      <td>25.37</td>\n",
       "      <td>28.11</td>\n",
       "      <td>27.19</td>\n",
       "      <td>12.00</td>\n",
       "      <td>9.81</td>\n",
       "      <td>20.67</td>\n",
       "      <td>16.37</td>\n",
       "      <td>14.59</td>\n",
       "    </tr>\n",
       "    <tr>\n",
       "      <th>2314</th>\n",
       "      <td>Denzel Slager</td>\n",
       "      <td>1993-05-02</td>\n",
       "      <td>23</td>\n",
       "      <td>1.83</td>\n",
       "      <td>81.19</td>\n",
       "      <td>24.28</td>\n",
       "      <td>61.50</td>\n",
       "      <td>70.75</td>\n",
       "      <td>left</td>\n",
       "      <td>high</td>\n",
       "      <td>...</td>\n",
       "      <td>47.00</td>\n",
       "      <td>50.00</td>\n",
       "      <td>20.62</td>\n",
       "      <td>20.00</td>\n",
       "      <td>21.00</td>\n",
       "      <td>14.00</td>\n",
       "      <td>8.00</td>\n",
       "      <td>11.00</td>\n",
       "      <td>11.00</td>\n",
       "      <td>15.00</td>\n",
       "    </tr>\n",
       "    <tr>\n",
       "      <th>2992</th>\n",
       "      <td>Fernando Marcal</td>\n",
       "      <td>1989-02-19</td>\n",
       "      <td>27</td>\n",
       "      <td>1.78</td>\n",
       "      <td>72.12</td>\n",
       "      <td>22.81</td>\n",
       "      <td>70.88</td>\n",
       "      <td>75.41</td>\n",
       "      <td>left</td>\n",
       "      <td>high</td>\n",
       "      <td>...</td>\n",
       "      <td>51.53</td>\n",
       "      <td>42.35</td>\n",
       "      <td>65.47</td>\n",
       "      <td>70.00</td>\n",
       "      <td>71.53</td>\n",
       "      <td>5.35</td>\n",
       "      <td>10.35</td>\n",
       "      <td>13.35</td>\n",
       "      <td>12.35</td>\n",
       "      <td>10.35</td>\n",
       "    </tr>\n",
       "  </tbody>\n",
       "</table>\n",
       "<p>10 rows × 44 columns</p>\n",
       "</div>"
      ],
      "text/plain": [
       "                 player_name    birthday  age  height_m  weight_kg    imc  \\\n",
       "858           Ariel Borysiuk  1991-07-29   24      1.80      69.85  21.48   \n",
       "8529  Sava Miladinovic Bento  1991-01-02   25      1.83      72.12  21.56   \n",
       "2527             Dusan Tadic  1988-11-20   27      1.80      76.20  23.43   \n",
       "8473        Samuel Souprayen  1989-02-18   27      1.88      74.84  21.18   \n",
       "1958           Daniele Croce  1982-09-09   33      1.73      68.04  22.81   \n",
       "4555         John Arne Riise  1980-09-24   35      1.88      82.10  23.24   \n",
       "8408             Saidy Janko  1995-10-22   20      1.78      69.85  22.10   \n",
       "3743          Helder Postiga  1982-08-02   33      1.80      76.20  23.43   \n",
       "2314           Denzel Slager  1993-05-02   23      1.83      81.19  24.28   \n",
       "2992         Fernando Marcal  1989-02-19   27      1.78      72.12  22.81   \n",
       "\n",
       "      overall_rating  potential preferred_foot attacking_work_rate  ...  \\\n",
       "858            66.12      74.38          right              medium  ...   \n",
       "8529           58.00      64.43          right              medium  ...   \n",
       "2527           78.16      81.88           left              medium  ...   \n",
       "8473           64.24      71.76           left              medium  ...   \n",
       "1958           67.68      67.68          right                high  ...   \n",
       "4555           76.32      77.64           left                high  ...   \n",
       "8408           62.13      76.53          right                high  ...   \n",
       "3743           76.04      76.93          right                high  ...   \n",
       "2314           61.50      70.75           left                high  ...   \n",
       "2992           70.88      75.41           left                high  ...   \n",
       "\n",
       "     vision  penalties  marking  standing_tackle  sliding_tackle  gk_diving  \\\n",
       "858   70.46      49.21    51.58            63.58           63.08      12.71   \n",
       "8529  59.64      49.50    41.64            46.57           40.07       8.00   \n",
       "2527  84.32      76.28    39.96            35.56           27.56      10.16   \n",
       "8473  46.52      42.71    65.62            65.19           66.90       8.33   \n",
       "1958  68.47      59.74    52.26            56.89           59.53      11.74   \n",
       "4555  64.14      70.59    75.45            79.59           80.59      13.27   \n",
       "8408  41.00      51.20    58.53            65.87           64.60       5.27   \n",
       "3743  67.15      70.59    25.37            28.11           27.19      12.00   \n",
       "2314  47.00      50.00    20.62            20.00           21.00      14.00   \n",
       "2992  51.53      42.35    65.47            70.00           71.53       5.35   \n",
       "\n",
       "      gk_handling  gk_kicking  gk_positioning  gk_reflexes  \n",
       "858         13.04       18.71           15.54        13.04  \n",
       "8529         8.00        8.00            7.00        14.00  \n",
       "2527        10.16       12.56            8.16        15.16  \n",
       "8473        10.95       15.19           14.19        14.19  \n",
       "1958        11.74        5.74            7.74        12.74  \n",
       "4555        10.09       33.14           13.50        13.68  \n",
       "8408         9.27        7.27           13.27         7.27  \n",
       "3743         9.81       20.67           16.37        14.59  \n",
       "2314         8.00       11.00           11.00        15.00  \n",
       "2992        10.35       13.35           12.35        10.35  \n",
       "\n",
       "[10 rows x 44 columns]"
      ]
     },
     "execution_count": 6,
     "metadata": {},
     "output_type": "execute_result"
    }
   ],
   "source": [
    "df_player.sample(10)"
   ]
  },
  {
   "cell_type": "code",
   "execution_count": 7,
   "metadata": {},
   "outputs": [
    {
     "data": {
      "text/plain": [
       "player_name             object\n",
       "birthday                object\n",
       "age                      int64\n",
       "height_m               float64\n",
       "weight_kg              float64\n",
       "imc                    float64\n",
       "overall_rating         float64\n",
       "potential              float64\n",
       "preferred_foot          object\n",
       "attacking_work_rate     object\n",
       "defensive_work_rate     object\n",
       "crossing               float64\n",
       "finishing              float64\n",
       "heading_accuracy       float64\n",
       "short_passing          float64\n",
       "volleys                float64\n",
       "dribbling              float64\n",
       "curve                  float64\n",
       "free_kick_accuracy     float64\n",
       "long_passing           float64\n",
       "ball_control           float64\n",
       "acceleration           float64\n",
       "sprint_speed           float64\n",
       "agility                float64\n",
       "reactions              float64\n",
       "balance                float64\n",
       "shot_power             float64\n",
       "jumping                float64\n",
       "stamina                float64\n",
       "strength               float64\n",
       "long_shots             float64\n",
       "aggression             float64\n",
       "interceptions          float64\n",
       "positioning            float64\n",
       "vision                 float64\n",
       "penalties              float64\n",
       "marking                float64\n",
       "standing_tackle        float64\n",
       "sliding_tackle         float64\n",
       "gk_diving              float64\n",
       "gk_handling            float64\n",
       "gk_kicking             float64\n",
       "gk_positioning         float64\n",
       "gk_reflexes            float64\n",
       "dtype: object"
      ]
     },
     "execution_count": 7,
     "metadata": {},
     "output_type": "execute_result"
    }
   ],
   "source": [
    "df_player.dtypes"
   ]
  },
  {
   "cell_type": "markdown",
   "metadata": {},
   "source": [
    "> #### Teams Dataset"
   ]
  },
  {
   "cell_type": "code",
   "execution_count": 8,
   "metadata": {},
   "outputs": [
    {
     "name": "stdout",
     "output_type": "stream",
     "text": [
      "Shape = (288, 22)\n"
     ]
    }
   ],
   "source": [
    "print(\"Shape = {}\".format(df_team.shape))"
   ]
  },
  {
   "cell_type": "code",
   "execution_count": 9,
   "metadata": {},
   "outputs": [
    {
     "data": {
      "text/html": [
       "<div>\n",
       "<style scoped>\n",
       "    .dataframe tbody tr th:only-of-type {\n",
       "        vertical-align: middle;\n",
       "    }\n",
       "\n",
       "    .dataframe tbody tr th {\n",
       "        vertical-align: top;\n",
       "    }\n",
       "\n",
       "    .dataframe thead th {\n",
       "        text-align: right;\n",
       "    }\n",
       "</style>\n",
       "<table border=\"1\" class=\"dataframe\">\n",
       "  <thead>\n",
       "    <tr style=\"text-align: right;\">\n",
       "      <th></th>\n",
       "      <th>team_long_name</th>\n",
       "      <th>team_short_name</th>\n",
       "      <th>buildUpPlaySpeed</th>\n",
       "      <th>buildUpPlaySpeedClass</th>\n",
       "      <th>buildUpPlayDribblingClass</th>\n",
       "      <th>buildUpPlayPassing</th>\n",
       "      <th>buildUpPlayPassingClass</th>\n",
       "      <th>buildUpPlayPositioningClass</th>\n",
       "      <th>chanceCreationPassing</th>\n",
       "      <th>chanceCreationPassingClass</th>\n",
       "      <th>...</th>\n",
       "      <th>chanceCreationShooting</th>\n",
       "      <th>chanceCreationShootingClass</th>\n",
       "      <th>chanceCreationPositioningClass</th>\n",
       "      <th>defencePressure</th>\n",
       "      <th>defencePressureClass</th>\n",
       "      <th>defenceAggression</th>\n",
       "      <th>defenceAggressionClass</th>\n",
       "      <th>defenceTeamWidth</th>\n",
       "      <th>defenceTeamWidthClass</th>\n",
       "      <th>defenceDefenderLineClass</th>\n",
       "    </tr>\n",
       "  </thead>\n",
       "  <tbody>\n",
       "    <tr>\n",
       "      <th>276</th>\n",
       "      <td>BSC Young Boys</td>\n",
       "      <td>YB</td>\n",
       "      <td>53.83</td>\n",
       "      <td>Balanced</td>\n",
       "      <td>Little</td>\n",
       "      <td>63.00</td>\n",
       "      <td>Mixed</td>\n",
       "      <td>Organised</td>\n",
       "      <td>46.00</td>\n",
       "      <td>Normal</td>\n",
       "      <td>...</td>\n",
       "      <td>52.00</td>\n",
       "      <td>Normal</td>\n",
       "      <td>Organised</td>\n",
       "      <td>46.50</td>\n",
       "      <td>Medium</td>\n",
       "      <td>40.00</td>\n",
       "      <td>Press</td>\n",
       "      <td>53.50</td>\n",
       "      <td>Normal</td>\n",
       "      <td>Cover</td>\n",
       "    </tr>\n",
       "    <tr>\n",
       "      <th>98</th>\n",
       "      <td>VfL Wolfsburg</td>\n",
       "      <td>WOL</td>\n",
       "      <td>61.33</td>\n",
       "      <td>Balanced</td>\n",
       "      <td>Little</td>\n",
       "      <td>51.33</td>\n",
       "      <td>Mixed</td>\n",
       "      <td>Organised</td>\n",
       "      <td>67.00</td>\n",
       "      <td>Risky</td>\n",
       "      <td>...</td>\n",
       "      <td>57.17</td>\n",
       "      <td>Normal</td>\n",
       "      <td>Organised</td>\n",
       "      <td>55.00</td>\n",
       "      <td>Medium</td>\n",
       "      <td>47.17</td>\n",
       "      <td>Press</td>\n",
       "      <td>53.00</td>\n",
       "      <td>Normal</td>\n",
       "      <td>Cover</td>\n",
       "    </tr>\n",
       "    <tr>\n",
       "      <th>186</th>\n",
       "      <td>Widzew Łódź</td>\n",
       "      <td>LOD</td>\n",
       "      <td>65.25</td>\n",
       "      <td>Balanced</td>\n",
       "      <td>Little</td>\n",
       "      <td>62.75</td>\n",
       "      <td>Long</td>\n",
       "      <td>Organised</td>\n",
       "      <td>56.75</td>\n",
       "      <td>Normal</td>\n",
       "      <td>...</td>\n",
       "      <td>53.00</td>\n",
       "      <td>Normal</td>\n",
       "      <td>Organised</td>\n",
       "      <td>34.25</td>\n",
       "      <td>Deep</td>\n",
       "      <td>42.75</td>\n",
       "      <td>Press</td>\n",
       "      <td>59.00</td>\n",
       "      <td>Normal</td>\n",
       "      <td>Cover</td>\n",
       "    </tr>\n",
       "    <tr>\n",
       "      <th>73</th>\n",
       "      <td>FC Sochaux-Montbéliard</td>\n",
       "      <td>SOC</td>\n",
       "      <td>61.33</td>\n",
       "      <td>Balanced</td>\n",
       "      <td>Little</td>\n",
       "      <td>46.00</td>\n",
       "      <td>Mixed</td>\n",
       "      <td>Organised</td>\n",
       "      <td>53.67</td>\n",
       "      <td>Normal</td>\n",
       "      <td>...</td>\n",
       "      <td>46.83</td>\n",
       "      <td>Normal</td>\n",
       "      <td>Organised</td>\n",
       "      <td>54.33</td>\n",
       "      <td>Medium</td>\n",
       "      <td>42.83</td>\n",
       "      <td>Press</td>\n",
       "      <td>54.33</td>\n",
       "      <td>Normal</td>\n",
       "      <td>Cover</td>\n",
       "    </tr>\n",
       "    <tr>\n",
       "      <th>269</th>\n",
       "      <td>RC Celta de Vigo</td>\n",
       "      <td>CEL</td>\n",
       "      <td>48.67</td>\n",
       "      <td>Balanced</td>\n",
       "      <td>Little</td>\n",
       "      <td>49.67</td>\n",
       "      <td>Mixed</td>\n",
       "      <td>Organised</td>\n",
       "      <td>52.67</td>\n",
       "      <td>Normal</td>\n",
       "      <td>...</td>\n",
       "      <td>56.00</td>\n",
       "      <td>Normal</td>\n",
       "      <td>Organised</td>\n",
       "      <td>42.67</td>\n",
       "      <td>Medium</td>\n",
       "      <td>47.00</td>\n",
       "      <td>Press</td>\n",
       "      <td>59.50</td>\n",
       "      <td>Normal</td>\n",
       "      <td>Cover</td>\n",
       "    </tr>\n",
       "    <tr>\n",
       "      <th>226</th>\n",
       "      <td>Heart of Midlothian</td>\n",
       "      <td>HEA</td>\n",
       "      <td>59.60</td>\n",
       "      <td>Balanced</td>\n",
       "      <td>Little</td>\n",
       "      <td>60.00</td>\n",
       "      <td>Mixed</td>\n",
       "      <td>Organised</td>\n",
       "      <td>58.40</td>\n",
       "      <td>Normal</td>\n",
       "      <td>...</td>\n",
       "      <td>64.00</td>\n",
       "      <td>Normal</td>\n",
       "      <td>Organised</td>\n",
       "      <td>53.40</td>\n",
       "      <td>Medium</td>\n",
       "      <td>59.00</td>\n",
       "      <td>Press</td>\n",
       "      <td>61.40</td>\n",
       "      <td>Normal</td>\n",
       "      <td>Cover</td>\n",
       "    </tr>\n",
       "    <tr>\n",
       "      <th>35</th>\n",
       "      <td>Middlesbrough</td>\n",
       "      <td>MID</td>\n",
       "      <td>62.67</td>\n",
       "      <td>Balanced</td>\n",
       "      <td>Little</td>\n",
       "      <td>55.83</td>\n",
       "      <td>Mixed</td>\n",
       "      <td>Organised</td>\n",
       "      <td>51.00</td>\n",
       "      <td>Normal</td>\n",
       "      <td>...</td>\n",
       "      <td>56.00</td>\n",
       "      <td>Normal</td>\n",
       "      <td>Organised</td>\n",
       "      <td>39.33</td>\n",
       "      <td>Medium</td>\n",
       "      <td>47.00</td>\n",
       "      <td>Press</td>\n",
       "      <td>42.83</td>\n",
       "      <td>Normal</td>\n",
       "      <td>Cover</td>\n",
       "    </tr>\n",
       "    <tr>\n",
       "      <th>154</th>\n",
       "      <td>Vitesse</td>\n",
       "      <td>VIT</td>\n",
       "      <td>42.00</td>\n",
       "      <td>Balanced</td>\n",
       "      <td>Little</td>\n",
       "      <td>39.00</td>\n",
       "      <td>Mixed</td>\n",
       "      <td>Organised</td>\n",
       "      <td>53.83</td>\n",
       "      <td>Normal</td>\n",
       "      <td>...</td>\n",
       "      <td>59.83</td>\n",
       "      <td>Normal</td>\n",
       "      <td>Organised</td>\n",
       "      <td>45.17</td>\n",
       "      <td>Medium</td>\n",
       "      <td>50.17</td>\n",
       "      <td>Press</td>\n",
       "      <td>52.33</td>\n",
       "      <td>Normal</td>\n",
       "      <td>Cover</td>\n",
       "    </tr>\n",
       "    <tr>\n",
       "      <th>253</th>\n",
       "      <td>Real Betis Balompié</td>\n",
       "      <td>BET</td>\n",
       "      <td>52.33</td>\n",
       "      <td>Balanced</td>\n",
       "      <td>Little</td>\n",
       "      <td>40.67</td>\n",
       "      <td>Mixed</td>\n",
       "      <td>Organised</td>\n",
       "      <td>55.67</td>\n",
       "      <td>Normal</td>\n",
       "      <td>...</td>\n",
       "      <td>56.50</td>\n",
       "      <td>Normal</td>\n",
       "      <td>Organised</td>\n",
       "      <td>54.00</td>\n",
       "      <td>Medium</td>\n",
       "      <td>46.83</td>\n",
       "      <td>Press</td>\n",
       "      <td>56.67</td>\n",
       "      <td>Normal</td>\n",
       "      <td>Cover</td>\n",
       "    </tr>\n",
       "    <tr>\n",
       "      <th>108</th>\n",
       "      <td>Karlsruher SC</td>\n",
       "      <td>KAR</td>\n",
       "      <td>57.40</td>\n",
       "      <td>Balanced</td>\n",
       "      <td>Little</td>\n",
       "      <td>47.40</td>\n",
       "      <td>Mixed</td>\n",
       "      <td>Organised</td>\n",
       "      <td>60.00</td>\n",
       "      <td>Normal</td>\n",
       "      <td>...</td>\n",
       "      <td>54.60</td>\n",
       "      <td>Normal</td>\n",
       "      <td>Organised</td>\n",
       "      <td>43.40</td>\n",
       "      <td>Medium</td>\n",
       "      <td>44.80</td>\n",
       "      <td>Press</td>\n",
       "      <td>45.40</td>\n",
       "      <td>Normal</td>\n",
       "      <td>Cover</td>\n",
       "    </tr>\n",
       "  </tbody>\n",
       "</table>\n",
       "<p>10 rows × 22 columns</p>\n",
       "</div>"
      ],
      "text/plain": [
       "             team_long_name team_short_name  buildUpPlaySpeed  \\\n",
       "276          BSC Young Boys              YB             53.83   \n",
       "98            VfL Wolfsburg             WOL             61.33   \n",
       "186             Widzew Łódź             LOD             65.25   \n",
       "73   FC Sochaux-Montbéliard             SOC             61.33   \n",
       "269        RC Celta de Vigo             CEL             48.67   \n",
       "226     Heart of Midlothian             HEA             59.60   \n",
       "35            Middlesbrough             MID             62.67   \n",
       "154                 Vitesse             VIT             42.00   \n",
       "253     Real Betis Balompié             BET             52.33   \n",
       "108           Karlsruher SC             KAR             57.40   \n",
       "\n",
       "    buildUpPlaySpeedClass buildUpPlayDribblingClass  buildUpPlayPassing  \\\n",
       "276              Balanced                    Little               63.00   \n",
       "98               Balanced                    Little               51.33   \n",
       "186              Balanced                    Little               62.75   \n",
       "73               Balanced                    Little               46.00   \n",
       "269              Balanced                    Little               49.67   \n",
       "226              Balanced                    Little               60.00   \n",
       "35               Balanced                    Little               55.83   \n",
       "154              Balanced                    Little               39.00   \n",
       "253              Balanced                    Little               40.67   \n",
       "108              Balanced                    Little               47.40   \n",
       "\n",
       "    buildUpPlayPassingClass buildUpPlayPositioningClass  \\\n",
       "276                   Mixed                   Organised   \n",
       "98                    Mixed                   Organised   \n",
       "186                    Long                   Organised   \n",
       "73                    Mixed                   Organised   \n",
       "269                   Mixed                   Organised   \n",
       "226                   Mixed                   Organised   \n",
       "35                    Mixed                   Organised   \n",
       "154                   Mixed                   Organised   \n",
       "253                   Mixed                   Organised   \n",
       "108                   Mixed                   Organised   \n",
       "\n",
       "     chanceCreationPassing chanceCreationPassingClass  ...  \\\n",
       "276                  46.00                     Normal  ...   \n",
       "98                   67.00                      Risky  ...   \n",
       "186                  56.75                     Normal  ...   \n",
       "73                   53.67                     Normal  ...   \n",
       "269                  52.67                     Normal  ...   \n",
       "226                  58.40                     Normal  ...   \n",
       "35                   51.00                     Normal  ...   \n",
       "154                  53.83                     Normal  ...   \n",
       "253                  55.67                     Normal  ...   \n",
       "108                  60.00                     Normal  ...   \n",
       "\n",
       "     chanceCreationShooting chanceCreationShootingClass  \\\n",
       "276                   52.00                      Normal   \n",
       "98                    57.17                      Normal   \n",
       "186                   53.00                      Normal   \n",
       "73                    46.83                      Normal   \n",
       "269                   56.00                      Normal   \n",
       "226                   64.00                      Normal   \n",
       "35                    56.00                      Normal   \n",
       "154                   59.83                      Normal   \n",
       "253                   56.50                      Normal   \n",
       "108                   54.60                      Normal   \n",
       "\n",
       "     chanceCreationPositioningClass defencePressure defencePressureClass  \\\n",
       "276                       Organised           46.50               Medium   \n",
       "98                        Organised           55.00               Medium   \n",
       "186                       Organised           34.25                 Deep   \n",
       "73                        Organised           54.33               Medium   \n",
       "269                       Organised           42.67               Medium   \n",
       "226                       Organised           53.40               Medium   \n",
       "35                        Organised           39.33               Medium   \n",
       "154                       Organised           45.17               Medium   \n",
       "253                       Organised           54.00               Medium   \n",
       "108                       Organised           43.40               Medium   \n",
       "\n",
       "     defenceAggression defenceAggressionClass  defenceTeamWidth  \\\n",
       "276              40.00                  Press             53.50   \n",
       "98               47.17                  Press             53.00   \n",
       "186              42.75                  Press             59.00   \n",
       "73               42.83                  Press             54.33   \n",
       "269              47.00                  Press             59.50   \n",
       "226              59.00                  Press             61.40   \n",
       "35               47.00                  Press             42.83   \n",
       "154              50.17                  Press             52.33   \n",
       "253              46.83                  Press             56.67   \n",
       "108              44.80                  Press             45.40   \n",
       "\n",
       "    defenceTeamWidthClass  defenceDefenderLineClass  \n",
       "276                Normal                     Cover  \n",
       "98                 Normal                     Cover  \n",
       "186                Normal                     Cover  \n",
       "73                 Normal                     Cover  \n",
       "269                Normal                     Cover  \n",
       "226                Normal                     Cover  \n",
       "35                 Normal                     Cover  \n",
       "154                Normal                     Cover  \n",
       "253                Normal                     Cover  \n",
       "108                Normal                     Cover  \n",
       "\n",
       "[10 rows x 22 columns]"
      ]
     },
     "execution_count": 9,
     "metadata": {},
     "output_type": "execute_result"
    }
   ],
   "source": [
    "df_team.sample(10)"
   ]
  },
  {
   "cell_type": "code",
   "execution_count": 10,
   "metadata": {},
   "outputs": [
    {
     "data": {
      "text/plain": [
       "team_long_name                     object\n",
       "team_short_name                    object\n",
       "buildUpPlaySpeed                  float64\n",
       "buildUpPlaySpeedClass              object\n",
       "buildUpPlayDribblingClass          object\n",
       "buildUpPlayPassing                float64\n",
       "buildUpPlayPassingClass            object\n",
       "buildUpPlayPositioningClass        object\n",
       "chanceCreationPassing             float64\n",
       "chanceCreationPassingClass         object\n",
       "chanceCreationCrossing            float64\n",
       "chanceCreationCrossingClass        object\n",
       "chanceCreationShooting            float64\n",
       "chanceCreationShootingClass        object\n",
       "chanceCreationPositioningClass     object\n",
       "defencePressure                   float64\n",
       "defencePressureClass               object\n",
       "defenceAggression                 float64\n",
       "defenceAggressionClass             object\n",
       "defenceTeamWidth                  float64\n",
       "defenceTeamWidthClass              object\n",
       "defenceDefenderLineClass           object\n",
       "dtype: object"
      ]
     },
     "execution_count": 10,
     "metadata": {},
     "output_type": "execute_result"
    }
   ],
   "source": [
    "df_team.dtypes"
   ]
  },
  {
   "cell_type": "markdown",
   "metadata": {},
   "source": [
    "> #### Matchs Dataset"
   ]
  },
  {
   "cell_type": "code",
   "execution_count": 11,
   "metadata": {},
   "outputs": [
    {
     "name": "stdout",
     "output_type": "stream",
     "text": [
      "Shape = (25979, 15)\n"
     ]
    }
   ],
   "source": [
    "print(\"Shape = {}\".format(df_match.shape))"
   ]
  },
  {
   "cell_type": "code",
   "execution_count": 12,
   "metadata": {},
   "outputs": [
    {
     "data": {
      "text/html": [
       "<div>\n",
       "<style scoped>\n",
       "    .dataframe tbody tr th:only-of-type {\n",
       "        vertical-align: middle;\n",
       "    }\n",
       "\n",
       "    .dataframe tbody tr th {\n",
       "        vertical-align: top;\n",
       "    }\n",
       "\n",
       "    .dataframe thead th {\n",
       "        text-align: right;\n",
       "    }\n",
       "</style>\n",
       "<table border=\"1\" class=\"dataframe\">\n",
       "  <thead>\n",
       "    <tr style=\"text-align: right;\">\n",
       "      <th></th>\n",
       "      <th>country_name</th>\n",
       "      <th>league_name</th>\n",
       "      <th>season</th>\n",
       "      <th>stage</th>\n",
       "      <th>date</th>\n",
       "      <th>home_team_long_name</th>\n",
       "      <th>home_short_long_name</th>\n",
       "      <th>away_team_long_name</th>\n",
       "      <th>away_short_long_name</th>\n",
       "      <th>home_team_goal</th>\n",
       "      <th>away_team_goal</th>\n",
       "      <th>total_goal</th>\n",
       "      <th>B365H</th>\n",
       "      <th>B365D</th>\n",
       "      <th>B365A</th>\n",
       "    </tr>\n",
       "  </thead>\n",
       "  <tbody>\n",
       "    <tr>\n",
       "      <th>15289</th>\n",
       "      <td>Netherlands</td>\n",
       "      <td>Netherlands Eredivisie</td>\n",
       "      <td>2014/2015</td>\n",
       "      <td>28</td>\n",
       "      <td>2015-03-20</td>\n",
       "      <td>FC Utrecht</td>\n",
       "      <td>UTR</td>\n",
       "      <td>NAC Breda</td>\n",
       "      <td>NAC</td>\n",
       "      <td>3</td>\n",
       "      <td>4</td>\n",
       "      <td>7</td>\n",
       "      <td>1.50</td>\n",
       "      <td>3.9</td>\n",
       "      <td>7.00</td>\n",
       "    </tr>\n",
       "    <tr>\n",
       "      <th>6697</th>\n",
       "      <td>France</td>\n",
       "      <td>France Ligue 1</td>\n",
       "      <td>2013/2014</td>\n",
       "      <td>11</td>\n",
       "      <td>2013-10-26</td>\n",
       "      <td>Valenciennes FC</td>\n",
       "      <td>VAL</td>\n",
       "      <td>Évian Thonon Gaillard FC</td>\n",
       "      <td>ETG</td>\n",
       "      <td>0</td>\n",
       "      <td>1</td>\n",
       "      <td>1</td>\n",
       "      <td>2.00</td>\n",
       "      <td>3.3</td>\n",
       "      <td>3.80</td>\n",
       "    </tr>\n",
       "    <tr>\n",
       "      <th>15489</th>\n",
       "      <td>Netherlands</td>\n",
       "      <td>Netherlands Eredivisie</td>\n",
       "      <td>2015/2016</td>\n",
       "      <td>17</td>\n",
       "      <td>2015-12-19</td>\n",
       "      <td>Heracles Almelo</td>\n",
       "      <td>HER</td>\n",
       "      <td>FC Groningen</td>\n",
       "      <td>GRO</td>\n",
       "      <td>2</td>\n",
       "      <td>1</td>\n",
       "      <td>3</td>\n",
       "      <td>2.20</td>\n",
       "      <td>3.4</td>\n",
       "      <td>3.20</td>\n",
       "    </tr>\n",
       "    <tr>\n",
       "      <th>2579</th>\n",
       "      <td>England</td>\n",
       "      <td>England Premier League</td>\n",
       "      <td>2010/2011</td>\n",
       "      <td>18</td>\n",
       "      <td>2011-01-26</td>\n",
       "      <td>Liverpool</td>\n",
       "      <td>LIV</td>\n",
       "      <td>Fulham</td>\n",
       "      <td>FUL</td>\n",
       "      <td>1</td>\n",
       "      <td>0</td>\n",
       "      <td>1</td>\n",
       "      <td>1.53</td>\n",
       "      <td>3.8</td>\n",
       "      <td>7.00</td>\n",
       "    </tr>\n",
       "    <tr>\n",
       "      <th>10264</th>\n",
       "      <td>Italy</td>\n",
       "      <td>Italy Serie A</td>\n",
       "      <td>2008/2009</td>\n",
       "      <td>1</td>\n",
       "      <td>2008-08-31</td>\n",
       "      <td>Torino</td>\n",
       "      <td>TOR</td>\n",
       "      <td>Lecce</td>\n",
       "      <td>LEC</td>\n",
       "      <td>3</td>\n",
       "      <td>0</td>\n",
       "      <td>3</td>\n",
       "      <td>1.80</td>\n",
       "      <td>3.1</td>\n",
       "      <td>5.25</td>\n",
       "    </tr>\n",
       "    <tr>\n",
       "      <th>17444</th>\n",
       "      <td>Poland</td>\n",
       "      <td>Poland Ekstraklasa</td>\n",
       "      <td>2015/2016</td>\n",
       "      <td>14</td>\n",
       "      <td>2015-10-30</td>\n",
       "      <td>Górnik Łęczna</td>\n",
       "      <td>LEC</td>\n",
       "      <td>Cracovia</td>\n",
       "      <td>CKR</td>\n",
       "      <td>1</td>\n",
       "      <td>0</td>\n",
       "      <td>1</td>\n",
       "      <td>NaN</td>\n",
       "      <td>NaN</td>\n",
       "      <td>NaN</td>\n",
       "    </tr>\n",
       "    <tr>\n",
       "      <th>11088</th>\n",
       "      <td>Italy</td>\n",
       "      <td>Italy Serie A</td>\n",
       "      <td>2010/2011</td>\n",
       "      <td>16</td>\n",
       "      <td>2010-12-12</td>\n",
       "      <td>Brescia</td>\n",
       "      <td>BRE</td>\n",
       "      <td>Sampdoria</td>\n",
       "      <td>SAM</td>\n",
       "      <td>1</td>\n",
       "      <td>0</td>\n",
       "      <td>1</td>\n",
       "      <td>2.90</td>\n",
       "      <td>3.1</td>\n",
       "      <td>2.55</td>\n",
       "    </tr>\n",
       "    <tr>\n",
       "      <th>467</th>\n",
       "      <td>Belgium</td>\n",
       "      <td>Belgium Jupiler League</td>\n",
       "      <td>2009/2010</td>\n",
       "      <td>30</td>\n",
       "      <td>2010-03-21</td>\n",
       "      <td>Standard de Liège</td>\n",
       "      <td>STL</td>\n",
       "      <td>KAA Gent</td>\n",
       "      <td>GEN</td>\n",
       "      <td>0</td>\n",
       "      <td>2</td>\n",
       "      <td>2</td>\n",
       "      <td>1.85</td>\n",
       "      <td>3.6</td>\n",
       "      <td>4.00</td>\n",
       "    </tr>\n",
       "    <tr>\n",
       "      <th>17525</th>\n",
       "      <td>Poland</td>\n",
       "      <td>Poland Ekstraklasa</td>\n",
       "      <td>2015/2016</td>\n",
       "      <td>23</td>\n",
       "      <td>2016-02-21</td>\n",
       "      <td>Polonia Bytom</td>\n",
       "      <td>GOR</td>\n",
       "      <td>Ruch Chorzów</td>\n",
       "      <td>CHO</td>\n",
       "      <td>0</td>\n",
       "      <td>2</td>\n",
       "      <td>2</td>\n",
       "      <td>NaN</td>\n",
       "      <td>NaN</td>\n",
       "      <td>NaN</td>\n",
       "    </tr>\n",
       "    <tr>\n",
       "      <th>15773</th>\n",
       "      <td>Poland</td>\n",
       "      <td>Poland Ekstraklasa</td>\n",
       "      <td>2008/2009</td>\n",
       "      <td>15</td>\n",
       "      <td>2008-11-22</td>\n",
       "      <td>GKS Bełchatów</td>\n",
       "      <td>BEL</td>\n",
       "      <td>Jagiellonia Białystok</td>\n",
       "      <td>BIA</td>\n",
       "      <td>2</td>\n",
       "      <td>0</td>\n",
       "      <td>2</td>\n",
       "      <td>NaN</td>\n",
       "      <td>NaN</td>\n",
       "      <td>NaN</td>\n",
       "    </tr>\n",
       "  </tbody>\n",
       "</table>\n",
       "</div>"
      ],
      "text/plain": [
       "      country_name             league_name     season  stage        date  \\\n",
       "15289  Netherlands  Netherlands Eredivisie  2014/2015     28  2015-03-20   \n",
       "6697        France          France Ligue 1  2013/2014     11  2013-10-26   \n",
       "15489  Netherlands  Netherlands Eredivisie  2015/2016     17  2015-12-19   \n",
       "2579       England  England Premier League  2010/2011     18  2011-01-26   \n",
       "10264        Italy           Italy Serie A  2008/2009      1  2008-08-31   \n",
       "17444       Poland      Poland Ekstraklasa  2015/2016     14  2015-10-30   \n",
       "11088        Italy           Italy Serie A  2010/2011     16  2010-12-12   \n",
       "467        Belgium  Belgium Jupiler League  2009/2010     30  2010-03-21   \n",
       "17525       Poland      Poland Ekstraklasa  2015/2016     23  2016-02-21   \n",
       "15773       Poland      Poland Ekstraklasa  2008/2009     15  2008-11-22   \n",
       "\n",
       "      home_team_long_name home_short_long_name       away_team_long_name  \\\n",
       "15289          FC Utrecht                  UTR                 NAC Breda   \n",
       "6697      Valenciennes FC                  VAL  Évian Thonon Gaillard FC   \n",
       "15489     Heracles Almelo                  HER              FC Groningen   \n",
       "2579            Liverpool                  LIV                    Fulham   \n",
       "10264              Torino                  TOR                     Lecce   \n",
       "17444       Górnik Łęczna                  LEC                  Cracovia   \n",
       "11088             Brescia                  BRE                 Sampdoria   \n",
       "467     Standard de Liège                  STL                  KAA Gent   \n",
       "17525       Polonia Bytom                  GOR              Ruch Chorzów   \n",
       "15773       GKS Bełchatów                  BEL     Jagiellonia Białystok   \n",
       "\n",
       "      away_short_long_name  home_team_goal  away_team_goal  total_goal  B365H  \\\n",
       "15289                  NAC               3               4           7   1.50   \n",
       "6697                   ETG               0               1           1   2.00   \n",
       "15489                  GRO               2               1           3   2.20   \n",
       "2579                   FUL               1               0           1   1.53   \n",
       "10264                  LEC               3               0           3   1.80   \n",
       "17444                  CKR               1               0           1    NaN   \n",
       "11088                  SAM               1               0           1   2.90   \n",
       "467                    GEN               0               2           2   1.85   \n",
       "17525                  CHO               0               2           2    NaN   \n",
       "15773                  BIA               2               0           2    NaN   \n",
       "\n",
       "       B365D  B365A  \n",
       "15289    3.9   7.00  \n",
       "6697     3.3   3.80  \n",
       "15489    3.4   3.20  \n",
       "2579     3.8   7.00  \n",
       "10264    3.1   5.25  \n",
       "17444    NaN    NaN  \n",
       "11088    3.1   2.55  \n",
       "467      3.6   4.00  \n",
       "17525    NaN    NaN  \n",
       "15773    NaN    NaN  "
      ]
     },
     "execution_count": 12,
     "metadata": {},
     "output_type": "execute_result"
    }
   ],
   "source": [
    "df_match.sample(10)"
   ]
  },
  {
   "cell_type": "markdown",
   "metadata": {},
   "source": [
    "***Interpretacion***\n",
    "\n"
   ]
  },
  {
   "cell_type": "code",
   "execution_count": 13,
   "metadata": {},
   "outputs": [
    {
     "data": {
      "text/plain": [
       "country_name             object\n",
       "league_name              object\n",
       "season                   object\n",
       "stage                     int64\n",
       "date                     object\n",
       "home_team_long_name      object\n",
       "home_short_long_name     object\n",
       "away_team_long_name      object\n",
       "away_short_long_name     object\n",
       "home_team_goal            int64\n",
       "away_team_goal            int64\n",
       "total_goal                int64\n",
       "B365H                   float64\n",
       "B365D                   float64\n",
       "B365A                   float64\n",
       "dtype: object"
      ]
     },
     "execution_count": 13,
     "metadata": {},
     "output_type": "execute_result"
    }
   ],
   "source": [
    "df_match.dtypes"
   ]
  },
  {
   "cell_type": "markdown",
   "metadata": {},
   "source": [
    "---"
   ]
  },
  {
   "cell_type": "markdown",
   "metadata": {},
   "source": [
    "### **Ejercicios**"
   ]
  },
  {
   "cell_type": "markdown",
   "metadata": {},
   "source": [
    "> Ejercicio 1\n",
    "\n",
    "Calcular Estadisticos como son:\n",
    "* Moda\n",
    "* Media\n",
    "* Mediana\n",
    "* Desviacion Estandar\n",
    "* Minimo y Maximo\n",
    "\n",
    "de variables como el 'Shot Power' y 'Long Shots de los jugadores.\n",
    "\n",
    "Ver si responden a alguna distribución conocida."
   ]
  },
  {
   "cell_type": "markdown",
   "metadata": {},
   "source": [
    "#### Shot Power - Estadisticos:"
   ]
  },
  {
   "cell_type": "code",
   "execution_count": 14,
   "metadata": {},
   "outputs": [
    {
     "data": {
      "text/plain": [
       "count    9925.000000\n",
       "mean       59.672008\n",
       "std        15.287306\n",
       "min         9.920000\n",
       "25%        52.270000\n",
       "50%        63.030000\n",
       "75%        70.570000\n",
       "max        93.080000\n",
       "Name: shot_power, dtype: float64"
      ]
     },
     "execution_count": 14,
     "metadata": {},
     "output_type": "execute_result"
    }
   ],
   "source": [
    "# Primero realizamos una pequeña limpieza, eliminando los datos NaN\n",
    "shot_power_clean = df_player[\"shot_power\"].dropna()\n",
    "\n",
    "shot_power_clean.describe()"
   ]
  },
  {
   "cell_type": "markdown",
   "metadata": {},
   "source": [
    "#### Shot Power - Histograma:"
   ]
  },
  {
   "cell_type": "code",
   "execution_count": 15,
   "metadata": {
    "scrolled": false
   },
   "outputs": [
    {
     "data": {
      "text/plain": [
       "<matplotlib.legend.Legend at 0x7f24f7332828>"
      ]
     },
     "execution_count": 15,
     "metadata": {},
     "output_type": "execute_result"
    },
    {
     "data": {
      "image/png": "[encoded data removed]",
      "text/plain": [
       "<Figure size 720x432 with 1 Axes>"
      ]
     },
     "metadata": {},
     "output_type": "display_data"
    }
   ],
   "source": [
    "plt.figure(figsize=(10,6))\n",
    "\n",
    "## Grafico la distribucion del \"shot_power\"\n",
    "sns.distplot(shot_power_clean, kde=True, bins=10, label='Shot Power')\n",
    "sns.despine()\n",
    "\n",
    "plt.ylabel('Densidad de probabilidad')\n",
    "plt.legend()"
   ]
  },
  {
   "cell_type": "markdown",
   "metadata": {},
   "source": [
    "***Interpretacion***\n",
    "\n",
    "Parece seguir una distribucion normal con un cierto sesgo hacia la derecha."
   ]
  },
  {
   "cell_type": "markdown",
   "metadata": {},
   "source": [
    "#### Long Shots  - Estadisticos:"
   ]
  },
  {
   "cell_type": "code",
   "execution_count": 16,
   "metadata": {},
   "outputs": [
    {
     "data": {
      "text/plain": [
       "count    9925.000000\n",
       "mean       50.919684\n",
       "std        17.356235\n",
       "min         6.000000\n",
       "25%        38.800000\n",
       "50%        55.150000\n",
       "75%        64.040000\n",
       "max        89.880000\n",
       "Name: long_shots, dtype: float64"
      ]
     },
     "execution_count": 16,
     "metadata": {},
     "output_type": "execute_result"
    }
   ],
   "source": [
    "# Primero realizamos una pequeña limpieza, eliminando los datos NaN\n",
    "long_shots_clean = df_player[\"long_shots\"].dropna()\n",
    "\n",
    "long_shots_clean.describe()"
   ]
  },
  {
   "cell_type": "markdown",
   "metadata": {},
   "source": [
    "#### Long Shots  - Histograma:"
   ]
  },
  {
   "cell_type": "code",
   "execution_count": 17,
   "metadata": {},
   "outputs": [
    {
     "data": {
      "text/plain": [
       "<matplotlib.legend.Legend at 0x7f24f6fde9e8>"
      ]
     },
     "execution_count": 17,
     "metadata": {},
     "output_type": "execute_result"
    },
    {
     "data": {
      "image/png": "[encoded data removed]",
      "text/plain": [
       "<Figure size 720x432 with 1 Axes>"
      ]
     },
     "metadata": {},
     "output_type": "display_data"
    }
   ],
   "source": [
    "plt.figure(figsize=(10,6))\n",
    "\n",
    "## Grafico la distribucion del \"long_shots\"\n",
    "sns.distplot(long_shots_clean, kde=True, bins=10, label='Long Shots')\n",
    "sns.despine()\n",
    "\n",
    "plt.ylabel('Densidad de probabilidad')\n",
    "plt.legend()"
   ]
  },
  {
   "cell_type": "markdown",
   "metadata": {},
   "source": [
    "***Interpretacion***\n",
    "\n",
    "Pareceria que son 2 distribuciones normales superpuestas. Una con media 20 y otra con media 60 aproximadamente."
   ]
  },
  {
   "cell_type": "markdown",
   "metadata": {},
   "source": [
    "___________________________________________________\n",
    "> Ejercicio 2\n",
    "\n",
    "Realizar un Análisis de valores atípicos (outliers) de las variables anteriores."
   ]
  },
  {
   "cell_type": "markdown",
   "metadata": {},
   "source": [
    "#### Shot Power - Outliers: BoxPlot"
   ]
  },
  {
   "cell_type": "code",
   "execution_count": 18,
   "metadata": {},
   "outputs": [
    {
     "data": {
      "text/plain": [
       "<matplotlib.axes._subplots.AxesSubplot at 0x7f24f6f4f710>"
      ]
     },
     "execution_count": 18,
     "metadata": {},
     "output_type": "execute_result"
    },
    {
     "data": {
      "image/png": "[encoded data removed]",
      "text/plain": [
       "<Figure size 1800x720 with 1 Axes>"
      ]
     },
     "metadata": {},
     "output_type": "display_data"
    }
   ],
   "source": [
    "## Box plot para \"shot_power\"\n",
    "\n",
    "plt.figure(figsize=(25,10))\n",
    "sns.boxplot(df_player[\"shot_power\"], palette=\"coolwarm\")"
   ]
  },
  {
   "cell_type": "markdown",
   "metadata": {},
   "source": [
    "#### Shot Power - Outliers: Z-Score"
   ]
  },
  {
   "cell_type": "code",
   "execution_count": 19,
   "metadata": {},
   "outputs": [
    {
     "name": "stdout",
     "output_type": "stream",
     "text": [
      "Promedio shot_power:  59.67200806045352\n"
     ]
    },
    {
     "data": {
      "text/html": [
       "<div>\n",
       "<style scoped>\n",
       "    .dataframe tbody tr th:only-of-type {\n",
       "        vertical-align: middle;\n",
       "    }\n",
       "\n",
       "    .dataframe tbody tr th {\n",
       "        vertical-align: top;\n",
       "    }\n",
       "\n",
       "    .dataframe thead th {\n",
       "        text-align: right;\n",
       "    }\n",
       "</style>\n",
       "<table border=\"1\" class=\"dataframe\">\n",
       "  <thead>\n",
       "    <tr style=\"text-align: right;\">\n",
       "      <th></th>\n",
       "      <th>player_name</th>\n",
       "      <th>shot_power</th>\n",
       "      <th>age</th>\n",
       "      <th>height_m</th>\n",
       "    </tr>\n",
       "  </thead>\n",
       "  <tbody>\n",
       "    <tr>\n",
       "      <th>1310</th>\n",
       "      <td>Bruno Verissimo</td>\n",
       "      <td>9.92</td>\n",
       "      <td>40</td>\n",
       "      <td>1.73</td>\n",
       "    </tr>\n",
       "    <tr>\n",
       "      <th>3691</th>\n",
       "      <td>Hans-Peter Berger</td>\n",
       "      <td>10.00</td>\n",
       "      <td>34</td>\n",
       "      <td>1.78</td>\n",
       "    </tr>\n",
       "    <tr>\n",
       "      <th>4084</th>\n",
       "      <td>Jakub Szumski</td>\n",
       "      <td>10.95</td>\n",
       "      <td>24</td>\n",
       "      <td>1.93</td>\n",
       "    </tr>\n",
       "    <tr>\n",
       "      <th>3223</th>\n",
       "      <td>Fredric Loehe</td>\n",
       "      <td>11.00</td>\n",
       "      <td>27</td>\n",
       "      <td>1.93</td>\n",
       "    </tr>\n",
       "    <tr>\n",
       "      <th>7915</th>\n",
       "      <td>Raul Dominguez</td>\n",
       "      <td>11.00</td>\n",
       "      <td>29</td>\n",
       "      <td>1.80</td>\n",
       "    </tr>\n",
       "    <tr>\n",
       "      <th>8351</th>\n",
       "      <td>Rui Rego</td>\n",
       "      <td>12.00</td>\n",
       "      <td>35</td>\n",
       "      <td>1.75</td>\n",
       "    </tr>\n",
       "    <tr>\n",
       "      <th>2525</th>\n",
       "      <td>Dusan Pernis</td>\n",
       "      <td>12.90</td>\n",
       "      <td>31</td>\n",
       "      <td>1.90</td>\n",
       "    </tr>\n",
       "    <tr>\n",
       "      <th>3443</th>\n",
       "      <td>Giedrius Arlauskis</td>\n",
       "      <td>12.93</td>\n",
       "      <td>28</td>\n",
       "      <td>1.83</td>\n",
       "    </tr>\n",
       "    <tr>\n",
       "      <th>4796</th>\n",
       "      <td>Jose Picon</td>\n",
       "      <td>13.00</td>\n",
       "      <td>28</td>\n",
       "      <td>1.83</td>\n",
       "    </tr>\n",
       "    <tr>\n",
       "      <th>7957</th>\n",
       "      <td>Renan</td>\n",
       "      <td>13.46</td>\n",
       "      <td>25</td>\n",
       "      <td>1.90</td>\n",
       "    </tr>\n",
       "    <tr>\n",
       "      <th>7990</th>\n",
       "      <td>Ricardo Campos</td>\n",
       "      <td>14.00</td>\n",
       "      <td>30</td>\n",
       "      <td>1.88</td>\n",
       "    </tr>\n",
       "    <tr>\n",
       "      <th>5673</th>\n",
       "      <td>Luciano</td>\n",
       "      <td>14.00</td>\n",
       "      <td>37</td>\n",
       "      <td>1.90</td>\n",
       "    </tr>\n",
       "    <tr>\n",
       "      <th>7645</th>\n",
       "      <td>Pedro Trigueira</td>\n",
       "      <td>14.00</td>\n",
       "      <td>28</td>\n",
       "      <td>1.90</td>\n",
       "    </tr>\n",
       "    <tr>\n",
       "      <th>6347</th>\n",
       "      <td>Mateusz Prus</td>\n",
       "      <td>14.33</td>\n",
       "      <td>26</td>\n",
       "      <td>1.88</td>\n",
       "    </tr>\n",
       "    <tr>\n",
       "      <th>8102</th>\n",
       "      <td>Robert Elliot</td>\n",
       "      <td>14.50</td>\n",
       "      <td>30</td>\n",
       "      <td>1.88</td>\n",
       "    </tr>\n",
       "    <tr>\n",
       "      <th>4882</th>\n",
       "      <td>Juan Pablo</td>\n",
       "      <td>14.50</td>\n",
       "      <td>37</td>\n",
       "      <td>1.88</td>\n",
       "    </tr>\n",
       "    <tr>\n",
       "      <th>9878</th>\n",
       "      <td>Zander Clark</td>\n",
       "      <td>14.53</td>\n",
       "      <td>23</td>\n",
       "      <td>1.96</td>\n",
       "    </tr>\n",
       "    <tr>\n",
       "      <th>4081</th>\n",
       "      <td>Jakub Slowik</td>\n",
       "      <td>14.73</td>\n",
       "      <td>24</td>\n",
       "      <td>1.90</td>\n",
       "    </tr>\n",
       "    <tr>\n",
       "      <th>4388</th>\n",
       "      <td>Jesper Hansen</td>\n",
       "      <td>14.75</td>\n",
       "      <td>31</td>\n",
       "      <td>1.88</td>\n",
       "    </tr>\n",
       "    <tr>\n",
       "      <th>7516</th>\n",
       "      <td>Paul Andre Guerin</td>\n",
       "      <td>15.00</td>\n",
       "      <td>18</td>\n",
       "      <td>1.83</td>\n",
       "    </tr>\n",
       "    <tr>\n",
       "      <th>1805</th>\n",
       "      <td>Cyprien Baguette,23</td>\n",
       "      <td>15.17</td>\n",
       "      <td>27</td>\n",
       "      <td>1.88</td>\n",
       "    </tr>\n",
       "    <tr>\n",
       "      <th>4505</th>\n",
       "      <td>Joe Shaughnessy</td>\n",
       "      <td>15.67</td>\n",
       "      <td>23</td>\n",
       "      <td>1.83</td>\n",
       "    </tr>\n",
       "    <tr>\n",
       "      <th>9884</th>\n",
       "      <td>Zbigniew Malkowski</td>\n",
       "      <td>15.69</td>\n",
       "      <td>38</td>\n",
       "      <td>1.88</td>\n",
       "    </tr>\n",
       "    <tr>\n",
       "      <th>6674</th>\n",
       "      <td>Michal Peskovic</td>\n",
       "      <td>15.73</td>\n",
       "      <td>34</td>\n",
       "      <td>1.88</td>\n",
       "    </tr>\n",
       "    <tr>\n",
       "      <th>6062</th>\n",
       "      <td>Marco Woelfli</td>\n",
       "      <td>15.73</td>\n",
       "      <td>33</td>\n",
       "      <td>1.85</td>\n",
       "    </tr>\n",
       "    <tr>\n",
       "      <th>5900</th>\n",
       "      <td>Manuel Salz</td>\n",
       "      <td>15.80</td>\n",
       "      <td>30</td>\n",
       "      <td>1.85</td>\n",
       "    </tr>\n",
       "    <tr>\n",
       "      <th>7670</th>\n",
       "      <td>Peter Enckelman</td>\n",
       "      <td>15.80</td>\n",
       "      <td>39</td>\n",
       "      <td>1.88</td>\n",
       "    </tr>\n",
       "    <tr>\n",
       "      <th>8619</th>\n",
       "      <td>Sebastien Chabbert</td>\n",
       "      <td>15.86</td>\n",
       "      <td>38</td>\n",
       "      <td>1.85</td>\n",
       "    </tr>\n",
       "    <tr>\n",
       "      <th>9105</th>\n",
       "      <td>Teddy Richert</td>\n",
       "      <td>15.89</td>\n",
       "      <td>41</td>\n",
       "      <td>1.83</td>\n",
       "    </tr>\n",
       "    <tr>\n",
       "      <th>7263</th>\n",
       "      <td>Ofir Marciano</td>\n",
       "      <td>16.00</td>\n",
       "      <td>26</td>\n",
       "      <td>1.93</td>\n",
       "    </tr>\n",
       "    <tr>\n",
       "      <th>...</th>\n",
       "      <td>...</td>\n",
       "      <td>...</td>\n",
       "      <td>...</td>\n",
       "      <td>...</td>\n",
       "    </tr>\n",
       "    <tr>\n",
       "      <th>6745</th>\n",
       "      <td>Miguel Silva</td>\n",
       "      <td>21.00</td>\n",
       "      <td>21</td>\n",
       "      <td>1.88</td>\n",
       "    </tr>\n",
       "    <tr>\n",
       "      <th>6399</th>\n",
       "      <td>Matias Omar Degra</td>\n",
       "      <td>21.00</td>\n",
       "      <td>32</td>\n",
       "      <td>1.90</td>\n",
       "    </tr>\n",
       "    <tr>\n",
       "      <th>7479</th>\n",
       "      <td>Patrick De Vlamynck</td>\n",
       "      <td>21.00</td>\n",
       "      <td>38</td>\n",
       "      <td>1.85</td>\n",
       "    </tr>\n",
       "    <tr>\n",
       "      <th>7529</th>\n",
       "      <td>Paul Grant</td>\n",
       "      <td>21.00</td>\n",
       "      <td>23</td>\n",
       "      <td>1.83</td>\n",
       "    </tr>\n",
       "    <tr>\n",
       "      <th>7510</th>\n",
       "      <td>Patryk Stepinski</td>\n",
       "      <td>21.00</td>\n",
       "      <td>21</td>\n",
       "      <td>1.78</td>\n",
       "    </tr>\n",
       "    <tr>\n",
       "      <th>1756</th>\n",
       "      <td>Cristian Alvarez</td>\n",
       "      <td>21.00</td>\n",
       "      <td>30</td>\n",
       "      <td>1.85</td>\n",
       "    </tr>\n",
       "    <tr>\n",
       "      <th>1713</th>\n",
       "      <td>Connor Ripley</td>\n",
       "      <td>21.00</td>\n",
       "      <td>23</td>\n",
       "      <td>1.90</td>\n",
       "    </tr>\n",
       "    <tr>\n",
       "      <th>1070</th>\n",
       "      <td>Ben Williams</td>\n",
       "      <td>21.05</td>\n",
       "      <td>33</td>\n",
       "      <td>1.88</td>\n",
       "    </tr>\n",
       "    <tr>\n",
       "      <th>7147</th>\n",
       "      <td>Nicolas Penneteau</td>\n",
       "      <td>21.06</td>\n",
       "      <td>35</td>\n",
       "      <td>1.85</td>\n",
       "    </tr>\n",
       "    <tr>\n",
       "      <th>6871</th>\n",
       "      <td>Mohamed Amsif</td>\n",
       "      <td>21.10</td>\n",
       "      <td>27</td>\n",
       "      <td>1.88</td>\n",
       "    </tr>\n",
       "    <tr>\n",
       "      <th>2867</th>\n",
       "      <td>Fabio Coltorti</td>\n",
       "      <td>21.11</td>\n",
       "      <td>35</td>\n",
       "      <td>1.98</td>\n",
       "    </tr>\n",
       "    <tr>\n",
       "      <th>7813</th>\n",
       "      <td>Radoslaw Cierzniak</td>\n",
       "      <td>21.13</td>\n",
       "      <td>33</td>\n",
       "      <td>1.83</td>\n",
       "    </tr>\n",
       "    <tr>\n",
       "      <th>3712</th>\n",
       "      <td>Hassan Lingani</td>\n",
       "      <td>21.14</td>\n",
       "      <td>28</td>\n",
       "      <td>1.83</td>\n",
       "    </tr>\n",
       "    <tr>\n",
       "      <th>9865</th>\n",
       "      <td>Yvon Mvogo</td>\n",
       "      <td>21.17</td>\n",
       "      <td>21</td>\n",
       "      <td>1.88</td>\n",
       "    </tr>\n",
       "    <tr>\n",
       "      <th>2524</th>\n",
       "      <td>Dusan Kuciak</td>\n",
       "      <td>21.17</td>\n",
       "      <td>31</td>\n",
       "      <td>1.93</td>\n",
       "    </tr>\n",
       "    <tr>\n",
       "      <th>5471</th>\n",
       "      <td>Leonardo Blanchard</td>\n",
       "      <td>21.18</td>\n",
       "      <td>28</td>\n",
       "      <td>1.88</td>\n",
       "    </tr>\n",
       "    <tr>\n",
       "      <th>4398</th>\n",
       "      <td>Jesus Fernandez</td>\n",
       "      <td>21.19</td>\n",
       "      <td>27</td>\n",
       "      <td>1.90</td>\n",
       "    </tr>\n",
       "    <tr>\n",
       "      <th>4068</th>\n",
       "      <td>Jakob Haugaard</td>\n",
       "      <td>21.19</td>\n",
       "      <td>24</td>\n",
       "      <td>1.98</td>\n",
       "    </tr>\n",
       "    <tr>\n",
       "      <th>1880</th>\n",
       "      <td>Daniel Aranzubia</td>\n",
       "      <td>21.25</td>\n",
       "      <td>36</td>\n",
       "      <td>1.85</td>\n",
       "    </tr>\n",
       "    <tr>\n",
       "      <th>365</th>\n",
       "      <td>Alex Calderoni</td>\n",
       "      <td>21.29</td>\n",
       "      <td>39</td>\n",
       "      <td>1.83</td>\n",
       "    </tr>\n",
       "    <tr>\n",
       "      <th>6927</th>\n",
       "      <td>Mouez Hassen</td>\n",
       "      <td>21.29</td>\n",
       "      <td>21</td>\n",
       "      <td>1.83</td>\n",
       "    </tr>\n",
       "    <tr>\n",
       "      <th>6738</th>\n",
       "      <td>Miguel Munoz</td>\n",
       "      <td>21.33</td>\n",
       "      <td>21</td>\n",
       "      <td>1.78</td>\n",
       "    </tr>\n",
       "    <tr>\n",
       "      <th>3699</th>\n",
       "      <td>Harm Zeinstra</td>\n",
       "      <td>21.33</td>\n",
       "      <td>26</td>\n",
       "      <td>1.93</td>\n",
       "    </tr>\n",
       "    <tr>\n",
       "      <th>4691</th>\n",
       "      <td>Jordan Pickford</td>\n",
       "      <td>21.35</td>\n",
       "      <td>22</td>\n",
       "      <td>1.85</td>\n",
       "    </tr>\n",
       "    <tr>\n",
       "      <th>436</th>\n",
       "      <td>Alexandre Letellier</td>\n",
       "      <td>21.37</td>\n",
       "      <td>25</td>\n",
       "      <td>1.90</td>\n",
       "    </tr>\n",
       "    <tr>\n",
       "      <th>7289</th>\n",
       "      <td>Oliver Klaus</td>\n",
       "      <td>21.38</td>\n",
       "      <td>26</td>\n",
       "      <td>1.83</td>\n",
       "    </tr>\n",
       "    <tr>\n",
       "      <th>4866</th>\n",
       "      <td>Juan Carlos</td>\n",
       "      <td>21.40</td>\n",
       "      <td>28</td>\n",
       "      <td>1.83</td>\n",
       "    </tr>\n",
       "    <tr>\n",
       "      <th>7916</th>\n",
       "      <td>Raul Fernandez</td>\n",
       "      <td>21.40</td>\n",
       "      <td>30</td>\n",
       "      <td>1.85</td>\n",
       "    </tr>\n",
       "    <tr>\n",
       "      <th>8866</th>\n",
       "      <td>Stanislav Kritsyuk</td>\n",
       "      <td>21.40</td>\n",
       "      <td>25</td>\n",
       "      <td>1.93</td>\n",
       "    </tr>\n",
       "    <tr>\n",
       "      <th>4288</th>\n",
       "      <td>Jed Steer</td>\n",
       "      <td>21.42</td>\n",
       "      <td>23</td>\n",
       "      <td>1.83</td>\n",
       "    </tr>\n",
       "  </tbody>\n",
       "</table>\n",
       "<p>189 rows × 4 columns</p>\n",
       "</div>"
      ],
      "text/plain": [
       "              player_name  shot_power  age  height_m\n",
       "1310      Bruno Verissimo        9.92   40      1.73\n",
       "3691    Hans-Peter Berger       10.00   34      1.78\n",
       "4084        Jakub Szumski       10.95   24      1.93\n",
       "3223        Fredric Loehe       11.00   27      1.93\n",
       "7915       Raul Dominguez       11.00   29      1.80\n",
       "8351             Rui Rego       12.00   35      1.75\n",
       "2525         Dusan Pernis       12.90   31      1.90\n",
       "3443   Giedrius Arlauskis       12.93   28      1.83\n",
       "4796           Jose Picon       13.00   28      1.83\n",
       "7957                Renan       13.46   25      1.90\n",
       "7990       Ricardo Campos       14.00   30      1.88\n",
       "5673              Luciano       14.00   37      1.90\n",
       "7645      Pedro Trigueira       14.00   28      1.90\n",
       "6347         Mateusz Prus       14.33   26      1.88\n",
       "8102        Robert Elliot       14.50   30      1.88\n",
       "4882           Juan Pablo       14.50   37      1.88\n",
       "9878         Zander Clark       14.53   23      1.96\n",
       "4081         Jakub Slowik       14.73   24      1.90\n",
       "4388        Jesper Hansen       14.75   31      1.88\n",
       "7516    Paul Andre Guerin       15.00   18      1.83\n",
       "1805  Cyprien Baguette,23       15.17   27      1.88\n",
       "4505      Joe Shaughnessy       15.67   23      1.83\n",
       "9884   Zbigniew Malkowski       15.69   38      1.88\n",
       "6674      Michal Peskovic       15.73   34      1.88\n",
       "6062        Marco Woelfli       15.73   33      1.85\n",
       "5900          Manuel Salz       15.80   30      1.85\n",
       "7670      Peter Enckelman       15.80   39      1.88\n",
       "8619   Sebastien Chabbert       15.86   38      1.85\n",
       "9105        Teddy Richert       15.89   41      1.83\n",
       "7263        Ofir Marciano       16.00   26      1.93\n",
       "...                   ...         ...  ...       ...\n",
       "6745         Miguel Silva       21.00   21      1.88\n",
       "6399    Matias Omar Degra       21.00   32      1.90\n",
       "7479  Patrick De Vlamynck       21.00   38      1.85\n",
       "7529           Paul Grant       21.00   23      1.83\n",
       "7510     Patryk Stepinski       21.00   21      1.78\n",
       "1756     Cristian Alvarez       21.00   30      1.85\n",
       "1713        Connor Ripley       21.00   23      1.90\n",
       "1070         Ben Williams       21.05   33      1.88\n",
       "7147    Nicolas Penneteau       21.06   35      1.85\n",
       "6871        Mohamed Amsif       21.10   27      1.88\n",
       "2867       Fabio Coltorti       21.11   35      1.98\n",
       "7813   Radoslaw Cierzniak       21.13   33      1.83\n",
       "3712       Hassan Lingani       21.14   28      1.83\n",
       "9865           Yvon Mvogo       21.17   21      1.88\n",
       "2524         Dusan Kuciak       21.17   31      1.93\n",
       "5471   Leonardo Blanchard       21.18   28      1.88\n",
       "4398      Jesus Fernandez       21.19   27      1.90\n",
       "4068       Jakob Haugaard       21.19   24      1.98\n",
       "1880     Daniel Aranzubia       21.25   36      1.85\n",
       "365        Alex Calderoni       21.29   39      1.83\n",
       "6927         Mouez Hassen       21.29   21      1.83\n",
       "6738         Miguel Munoz       21.33   21      1.78\n",
       "3699        Harm Zeinstra       21.33   26      1.93\n",
       "4691      Jordan Pickford       21.35   22      1.85\n",
       "436   Alexandre Letellier       21.37   25      1.90\n",
       "7289         Oliver Klaus       21.38   26      1.83\n",
       "4866          Juan Carlos       21.40   28      1.83\n",
       "7916       Raul Fernandez       21.40   30      1.85\n",
       "8866   Stanislav Kritsyuk       21.40   25      1.93\n",
       "4288            Jed Steer       21.42   23      1.83\n",
       "\n",
       "[189 rows x 4 columns]"
      ]
     },
     "execution_count": 19,
     "metadata": {},
     "output_type": "execute_result"
    }
   ],
   "source": [
    "## Z-Score para \"shot_power\"\n",
    "\n",
    "df_player[\"shot_power_zscore\"] = zscore(df_player[\"shot_power\"])\n",
    "\n",
    "shot_power_zscore_outliers = df_player[\"shot_power_zscore\"].apply(\n",
    "    ## Si zscore es menor 2.5 o mayor a 2.5, el valor observado esta en el 5% mas chico o mas grande.\n",
    "  lambda x: x <= -2.5 or x >= 2.5\n",
    ")\n",
    "print(\"Promedio shot_power: \", shot_power_clean.mean())\n",
    "\n",
    "df_player[shot_power_zscore_outliers][[\"player_name\", \"shot_power\", \"age\", \"height_m\"]].sort_values(\"shot_power\", ascending=True)"
   ]
  },
  {
   "cell_type": "markdown",
   "metadata": {},
   "source": [
    "***Interpretacion***\n",
    "\n",
    "Vemos como tanto en el boxpolot como en los resultados arrojados por el zscore, los outliers de *shot_power* se ubican por debajo de la media. Para ser exacto hay 189 jugadores que se pueden considerar outliers."
   ]
  },
  {
   "cell_type": "markdown",
   "metadata": {},
   "source": [
    "#### Long Shots  - Outliers: BoxPlot"
   ]
  },
  {
   "cell_type": "code",
   "execution_count": 20,
   "metadata": {
    "scrolled": false
   },
   "outputs": [
    {
     "data": {
      "text/plain": [
       "<matplotlib.axes._subplots.AxesSubplot at 0x7f24f6f385f8>"
      ]
     },
     "execution_count": 20,
     "metadata": {},
     "output_type": "execute_result"
    },
    {
     "data": {
      "image/png": "[encoded data removed]",
      "text/plain": [
       "<Figure size 1800x720 with 1 Axes>"
      ]
     },
     "metadata": {},
     "output_type": "display_data"
    }
   ],
   "source": [
    "## Box plot para \"long_shots\"\n",
    "plt.figure(figsize=(25,10))\n",
    "sns.boxplot(df_player[\"long_shots\"], palette=\"coolwarm\")"
   ]
  },
  {
   "cell_type": "markdown",
   "metadata": {},
   "source": [
    "#### Long Shots - Outliers: Z-Score"
   ]
  },
  {
   "cell_type": "code",
   "execution_count": 21,
   "metadata": {},
   "outputs": [
    {
     "name": "stdout",
     "output_type": "stream",
     "text": [
      "Promedio long_shots:  50.91968362720401\n"
     ]
    },
    {
     "data": {
      "text/html": [
       "<div>\n",
       "<style scoped>\n",
       "    .dataframe tbody tr th:only-of-type {\n",
       "        vertical-align: middle;\n",
       "    }\n",
       "\n",
       "    .dataframe tbody tr th {\n",
       "        vertical-align: top;\n",
       "    }\n",
       "\n",
       "    .dataframe thead th {\n",
       "        text-align: right;\n",
       "    }\n",
       "</style>\n",
       "<table border=\"1\" class=\"dataframe\">\n",
       "  <thead>\n",
       "    <tr style=\"text-align: right;\">\n",
       "      <th></th>\n",
       "      <th>player_name</th>\n",
       "      <th>long_shots</th>\n",
       "      <th>age</th>\n",
       "      <th>height_m</th>\n",
       "    </tr>\n",
       "  </thead>\n",
       "  <tbody>\n",
       "    <tr>\n",
       "      <th>6745</th>\n",
       "      <td>Miguel Silva</td>\n",
       "      <td>6.00</td>\n",
       "      <td>21</td>\n",
       "      <td>1.88</td>\n",
       "    </tr>\n",
       "    <tr>\n",
       "      <th>4840</th>\n",
       "      <td>Josip Posavec</td>\n",
       "      <td>7.00</td>\n",
       "      <td>20</td>\n",
       "      <td>1.90</td>\n",
       "    </tr>\n",
       "    <tr>\n",
       "      <th>8266</th>\n",
       "      <td>Ronan Le Crom</td>\n",
       "      <td>7.43</td>\n",
       "      <td>41</td>\n",
       "      <td>1.85</td>\n",
       "    </tr>\n",
       "  </tbody>\n",
       "</table>\n",
       "</div>"
      ],
      "text/plain": [
       "        player_name  long_shots  age  height_m\n",
       "6745   Miguel Silva        6.00   21      1.88\n",
       "4840  Josip Posavec        7.00   20      1.90\n",
       "8266  Ronan Le Crom        7.43   41      1.85"
      ]
     },
     "execution_count": 21,
     "metadata": {},
     "output_type": "execute_result"
    }
   ],
   "source": [
    "## Z-Szore para \"long_shots\"\n",
    "\n",
    "df_player[\"long_shots_zscore\"] = zscore(df_player[\"long_shots\"])\n",
    "\n",
    "long_shots_zscore_outliers = df_player[\"long_shots_zscore\"].apply(\n",
    "    ## Si zscore es menor 2.5 o mayor a 2.5, el valor observado esta en el 5% mas chico o mas grande.\n",
    "  lambda x: x <= -2.5 or x >= 2.5\n",
    ")\n",
    "print(\"Promedio long_shots: \", long_shots_clean.mean())\n",
    "\n",
    "df_player[long_shots_zscore_outliers][[\"player_name\", \"long_shots\", \"age\", \"height_m\"]].sort_values(\"long_shots\", ascending=True)"
   ]
  },
  {
   "cell_type": "markdown",
   "metadata": {},
   "source": [
    "***Interpretacion***\n",
    "\n",
    "Contrariamente al caso de *shot_power*, el boxpolot para la variable *long_shots* no arroja outliers, sin embargo tras calcular el zscore, vemos como hay 3 jugadores que se ubican por debajo de la media."
   ]
  },
  {
   "cell_type": "markdown",
   "metadata": {},
   "source": [
    "_____________________________________________________________\n",
    "> Ejercicio 3\n",
    "\n",
    "Explicar cómo varía el analisis hecho anteriormente cuando se desglosan por la pierna hábil.  \n",
    "Comparar cualitativamente y gráficamente ambas distribuciones."
   ]
  },
  {
   "cell_type": "markdown",
   "metadata": {},
   "source": [
    "#### Shot Power - Outliers: *preferred_foot* oriented"
   ]
  },
  {
   "cell_type": "code",
   "execution_count": 22,
   "metadata": {
    "scrolled": false
   },
   "outputs": [
    {
     "data": {
      "text/plain": [
       "<matplotlib.axes._subplots.AxesSubplot at 0x7f24f7758240>"
      ]
     },
     "execution_count": 22,
     "metadata": {},
     "output_type": "execute_result"
    },
    {
     "data": {
      "image/png": "[encoded data removed]",
      "text/plain": [
       "<Figure size 1800x720 with 1 Axes>"
      ]
     },
     "metadata": {},
     "output_type": "display_data"
    }
   ],
   "source": [
    "## Box plot para \"shot_power\" orientado a \"preferred_foot\"\n",
    "\n",
    "plt.figure(figsize=(25,10))\n",
    "sns.boxplot(x=df_player[\"preferred_foot\"], y=df_player[\"shot_power\"], palette=\"coolwarm\")"
   ]
  },
  {
   "cell_type": "code",
   "execution_count": 27,
   "metadata": {},
   "outputs": [
    {
     "name": "stdout",
     "output_type": "stream",
     "text": [
      "Estadisticos shot_power outliers:\n",
      "count    189.000000\n",
      "mean      18.776614\n",
      "std        2.597974\n",
      "min        9.920000\n",
      "25%       17.550000\n",
      "50%       20.000000\n",
      "75%       20.760000\n",
      "max       21.420000\n",
      "Name: shot_power, dtype: float64\n",
      "\n",
      "Estadisticos shot_power outliers preferred_foot->right:\n",
      "count    165.000000\n",
      "mean      18.686848\n",
      "std        2.671061\n",
      "min        9.920000\n",
      "25%       17.250000\n",
      "50%       19.940000\n",
      "75%       20.760000\n",
      "max       21.400000\n",
      "Name: shot_power, dtype: float64\n",
      "\n",
      "Estadisticos shot_power outliers preferred_foot->left:\n",
      "count    24.000000\n",
      "mean     19.393750\n",
      "std       1.960048\n",
      "min      14.500000\n",
      "25%      18.412500\n",
      "50%      20.125000\n",
      "75%      20.655000\n",
      "max      21.420000\n",
      "Name: shot_power, dtype: float64\n"
     ]
    }
   ],
   "source": [
    "## Z-Score para \"shot_power\"\n",
    "\n",
    "shot_power_lefties_outliers = df_player[shot_power_zscore_outliers][df_player.preferred_foot==\"left\"][[\"player_name\", \"shot_power\", \"age\", \"height_m\"]].sort_values(\"shot_power\", ascending=True)\n",
    "shot_power_righties_outliers = df_player[shot_power_zscore_outliers][df_player.preferred_foot==\"right\"][[\"player_name\", \"shot_power\", \"age\", \"height_m\"]].sort_values(\"shot_power\", ascending=True)\n",
    "\n",
    "print(\"Estadisticos shot_power outliers:\\n{}\".format(df_player[shot_power_zscore_outliers][\"shot_power\"].describe()))\n",
    "print(\"\\nEstadisticos shot_power outliers preferred_foot->right:\\n{}\".format(shot_power_righties_outliers[\"shot_power\"].describe()))\n",
    "print(\"\\nEstadisticos shot_power outliers preferred_foot->left:\\n{}\".format(shot_power_lefties_outliers[\"shot_power\"].describe()))"
   ]
  },
  {
   "cell_type": "markdown",
   "metadata": {},
   "source": [
    "**Interpretacion**\n",
    "\n",
    "Podemos ver claramenmte que los jugadores zurdos tienen una serie de estadisticos de *shot_power*  mayor que los diestros: media, minimo, primer y segundo cuartil. Tambien podemos observar que la desviacion estandar es menor. Estas concluciones se pueden intepretar tanto del grafico boxplot como del *describe()* realizado sobre los valores de zscore.\n",
    "Un valor que sin embargo comparten es el valor maximo de *shot_power*.\n",
    "\n",
    "A modo de conclusion podemos decir que hay menos jugadores zurdos que patean con menos fuerza que derechos y a medida que el valor de *shot_power* comienza a incrementar, ambos grupos de jugadores (diestros y zurdos) se comienzan a parecer más y más."
   ]
  },
  {
   "cell_type": "markdown",
   "metadata": {},
   "source": [
    "#### Long Shots  - Outliers: *preferred_foot* oriented"
   ]
  },
  {
   "cell_type": "code",
   "execution_count": 25,
   "metadata": {
    "scrolled": false
   },
   "outputs": [
    {
     "data": {
      "text/plain": [
       "<matplotlib.axes._subplots.AxesSubplot at 0x7f24f6f8fb38>"
      ]
     },
     "execution_count": 25,
     "metadata": {},
     "output_type": "execute_result"
    },
    {
     "data": {
      "image/png": "[encoded data removed]",
      "text/plain": [
       "<Figure size 1800x720 with 1 Axes>"
      ]
     },
     "metadata": {},
     "output_type": "display_data"
    }
   ],
   "source": [
    "## Box plot para \"long_shots\" orientado a \"preferred_foot\"\n",
    "\n",
    "plt.figure(figsize=(25,10))\n",
    "sns.boxplot(x=df_player[\"preferred_foot\"], y=df_player[\"long_shots\"], palette=\"coolwarm\")"
   ]
  },
  {
   "cell_type": "code",
   "execution_count": 28,
   "metadata": {},
   "outputs": [
    {
     "name": "stdout",
     "output_type": "stream",
     "text": [
      "Estadisticos long_shots outliers:\n",
      "count    3.000000\n",
      "mean     6.810000\n",
      "std      0.733689\n",
      "min      6.000000\n",
      "25%      6.500000\n",
      "50%      7.000000\n",
      "75%      7.215000\n",
      "max      7.430000\n",
      "Name: long_shots, dtype: float64\n",
      "\n",
      "Estadisticos long_shots outliers preferred_foot->right:\n",
      "count    3.000000\n",
      "mean     6.810000\n",
      "std      0.733689\n",
      "min      6.000000\n",
      "25%      6.500000\n",
      "50%      7.000000\n",
      "75%      7.215000\n",
      "max      7.430000\n",
      "Name: long_shots, dtype: float64\n",
      "\n",
      "Estadisticos long_shots outliers preferred_foot->left:\n",
      "count    0.0\n",
      "mean     NaN\n",
      "std      NaN\n",
      "min      NaN\n",
      "25%      NaN\n",
      "50%      NaN\n",
      "75%      NaN\n",
      "max      NaN\n",
      "Name: long_shots, dtype: float64\n"
     ]
    }
   ],
   "source": [
    "## Z-Score para \"long_shots\"\n",
    "\n",
    "long_shots_lefties_outliers = df_player[long_shots_zscore_outliers][df_player.preferred_foot==\"left\"][[\"player_name\", \"long_shots\", \"age\", \"height_m\"]].sort_values(\"long_shots\", ascending=True)\n",
    "long_shots_righties_outliers = df_player[long_shots_zscore_outliers][df_player.preferred_foot==\"right\"][[\"player_name\", \"long_shots\", \"age\", \"height_m\"]].sort_values(\"long_shots\", ascending=True)\n",
    "\n",
    "print(\"Estadisticos long_shots outliers:\\n{}\".format(df_player[long_shots_zscore_outliers][\"long_shots\"].describe()))\n",
    "print(\"\\nEstadisticos long_shots outliers preferred_foot->right:\\n{}\".format(long_shots_righties_outliers[\"long_shots\"].describe()))\n",
    "print(\"\\nEstadisticos long_shots outliers preferred_foot->left:\\n{}\".format(long_shots_lefties_outliers[\"long_shots\"].describe()))"
   ]
  },
  {
   "cell_type": "markdown",
   "metadata": {},
   "source": [
    "**Interpretacion**\n",
    "\n",
    "Podemos ver en el boxplot que los jugadores zurdos tienen un valor minimo de *long_shots* más alto que los diestros. Sin embargo, al comparar los valores en el otro extremo (los valores altos) vemos que los jugadores diestros tieneden a superar los valores de *long_shots* de los zurdos.\n",
    "\n",
    "Otro dato no menor es que segun el z-score, no hay jugadores zurdos que puedan ser considerados outliers para la variable *long_shots*"
   ]
  },
  {
   "cell_type": "markdown",
   "metadata": {},
   "source": [
    "________________________________________\n",
    "> Ejercicio 4\n",
    "\n",
    "Graficar la correlacion de los features de los jugadores.  \n",
    "Calcular la correlacion entre los features 'Shot Power' y 'Long Shots' desglosando por la pierna habil."
   ]
  },
  {
   "cell_type": "code",
   "execution_count": 29,
   "metadata": {},
   "outputs": [
    {
     "data": {
      "image/png": "[encoded data removed]",
      "text/plain": [
       "<Figure size 720x432 with 2 Axes>"
      ]
     },
     "metadata": {},
     "output_type": "display_data"
    }
   ],
   "source": [
    "## Analisamos los datos en busqueda de valores Nan\n",
    "\n",
    "plt.figure(figsize=(10,6))\n",
    "sns.heatmap(df_player.isna())\n",
    "sns.despine()"
   ]
  },
  {
   "cell_type": "code",
   "execution_count": 31,
   "metadata": {},
   "outputs": [
    {
     "name": "stdout",
     "output_type": "stream",
     "text": [
      "(9925, 46)\n",
      "(9925, 46)\n"
     ]
    }
   ],
   "source": [
    "print(df_player.shape)\n",
    "print(df_player.dropna().shape)"
   ]
  },
  {
   "cell_type": "markdown",
   "metadata": {},
   "source": [
    "Como podemos observar no hay valores NaN en el DataFrame *df_player*\n",
    "\n",
    "#### Correlacion de los features *shot_power* y *long_shots* de los jugadores"
   ]
  },
  {
   "cell_type": "code",
   "execution_count": 34,
   "metadata": {},
   "outputs": [
    {
     "data": {
      "text/plain": [
       "<seaborn.axisgrid.PairGrid at 0x7f24bc405438>"
      ]
     },
     "execution_count": 34,
     "metadata": {},
     "output_type": "execute_result"
    },
    {
     "data": {
      "text/plain": [
       "<Figure size 1152x720 with 0 Axes>"
      ]
     },
     "metadata": {},
     "output_type": "display_data"
    },
    {
     "data": {
      "image/png": "[encoded data removed]",
      "text/plain": [
       "<Figure size 360x360 with 6 Axes>"
      ]
     },
     "metadata": {},
     "output_type": "display_data"
    }
   ],
   "source": [
    "plt.figure(figsize=(16,10))\n",
    "sns.pairplot(df_player[[\"long_shots\", \"shot_power\"]])"
   ]
  },
  {
   "cell_type": "markdown",
   "metadata": {},
   "source": [
    "**Interpretacion**\n",
    "\n",
    "Podemos ver como hay una relacion lineal entre las dos variables: Ambas tienden a aumentar cuando la otra tambien lo hace."
   ]
  },
  {
   "cell_type": "markdown",
   "metadata": {},
   "source": [
    "**Calculo de correlacion desglosado por pierna habil**\n",
    "\n",
    "Como las variables NO estan distribuidas normalmente, no es posible utilizar la correlación con el metodo de Spearman. Lo vamos a analizar con el metodo de Kendall que es apto para variables ordinales, de intervalo o de razon."
   ]
  },
  {
   "cell_type": "code",
   "execution_count": 44,
   "metadata": {},
   "outputs": [
    {
     "data": {
      "text/plain": [
       "<matplotlib.axes._subplots.AxesSubplot at 0x7f24ca1fefd0>"
      ]
     },
     "execution_count": 44,
     "metadata": {},
     "output_type": "execute_result"
    },
    {
     "data": {
      "image/png": "[encoded data removed]",
      "text/plain": [
       "<Figure size 720x432 with 4 Axes>"
      ]
     },
     "metadata": {},
     "output_type": "display_data"
    }
   ],
   "source": [
    "plt.figure(figsize=(10,6))\n",
    "\n",
    "# Correlacion entre zurdos\n",
    "\n",
    "plt.subplot(1,2,1)\n",
    "sns.heatmap(df_player[df_player.preferred_foot==\"left\"][[\"shot_power\", \"long_shots\"]].corr(method=\"kendall\"), \n",
    "            annot=True, cmap=\"coolwarm\")\n",
    "\n",
    "# Correlacion entre diestros\n",
    "plt.subplot(1,2,2)\n",
    "sns.heatmap(df_player[df_player.preferred_foot==\"right\"][[\"shot_power\", \"long_shots\"]].corr(method=\"kendall\"), \n",
    "            annot=True, cmap=\"coolwarm\")"
   ]
  },
  {
   "cell_type": "markdown",
   "metadata": {},
   "source": [
    "**Interpretacion**\n",
    "\n",
    "- Correlacion entre zurdos: 0.65\n",
    "- Correlacion entre diestros: 0.67\n",
    "\n",
    "Podemos ver que la correlacion entre ambas variables casi no varia si hablamos de jugadores diestros o zurdos (aunque es levemente mayor la correlacion en jugadores diestros)."
   ]
  },
  {
   "cell_type": "markdown",
   "metadata": {},
   "source": [
    "> Ejercicio 5\n",
    "\n",
    "Graficar la correlacion de los entre los features 'Weight' y 'Age' de los jugadores. Que conclusiones se obtienen?  \n",
    "Graficar la correlacion de los entre los features 'Height' y 'Age' de los jugadores. Que conclusiones se obtienen?"
   ]
  },
  {
   "cell_type": "code",
   "execution_count": null,
   "metadata": {},
   "outputs": [],
   "source": []
  },
  {
   "cell_type": "markdown",
   "metadata": {},
   "source": [
    "> Ejercicio 6\n",
    "\n",
    "Liga Europea con mayor cantidad de partidos"
   ]
  },
  {
   "cell_type": "code",
   "execution_count": null,
   "metadata": {},
   "outputs": [],
   "source": []
  },
  {
   "cell_type": "markdown",
   "metadata": {},
   "source": [
    "> Ejercicio 7\n",
    "\n",
    "Top 10 de Equipos con mayor cantidad de goles convertidos: Total, Local y Visitante"
   ]
  },
  {
   "cell_type": "code",
   "execution_count": null,
   "metadata": {},
   "outputs": [],
   "source": []
  },
  {
   "cell_type": "markdown",
   "metadata": {},
   "source": [
    "> Ejercicio 8\n",
    "\n",
    "Distribucion de Cantidad de goles convertidos: Total, Local y Visitante"
   ]
  },
  {
   "cell_type": "code",
   "execution_count": null,
   "metadata": {},
   "outputs": [],
   "source": []
  },
  {
   "cell_type": "markdown",
   "metadata": {},
   "source": [
    "> Ejercicio 9\n",
    "\n",
    "Boxplot de Goles por Temporada"
   ]
  },
  {
   "cell_type": "code",
   "execution_count": null,
   "metadata": {},
   "outputs": [],
   "source": []
  },
  {
   "cell_type": "markdown",
   "metadata": {},
   "source": [
    "> Ejercicio 10\n",
    "\n",
    "Resumen de Goles convertidos por Temporada: Total, Local y Visitante"
   ]
  },
  {
   "cell_type": "code",
   "execution_count": null,
   "metadata": {},
   "outputs": [],
   "source": []
  },
  {
   "cell_type": "markdown",
   "metadata": {},
   "source": [
    "> Ejercicio 11\n",
    "\n",
    "Proporciones de los resultados de los partidos"
   ]
  },
  {
   "cell_type": "code",
   "execution_count": null,
   "metadata": {},
   "outputs": [],
   "source": []
  },
  {
   "cell_type": "markdown",
   "metadata": {},
   "source": [
    "### **Extra:** Si se les ocurre algún otra métrica que puedan extraer de los datasets, los invito a que la hagan."
   ]
  },
  {
   "cell_type": "markdown",
   "metadata": {},
   "source": [
    "---"
   ]
  },
  {
   "cell_type": "markdown",
   "metadata": {},
   "source": [
    "**Comunicación de Resultados**\n",
    "\n",
    "Se pide que toda esta información no quede plasmada solamente en un Jupyter Notebook, sino que se diagrame una comunicación en formato textual o interactivo (Google Docs, PDF o Markdown por ejemplo).\n",
    "\n",
    "La comunicación debe estar apuntada a un público técnico pero sin conocimiento del tema particular, como por ejemplo, sus compañeros de clase."
   ]
  },
  {
   "cell_type": "code",
   "execution_count": null,
   "metadata": {},
   "outputs": [],
   "source": []
  }
 ],
 "metadata": {
  "kernelspec": {
   "display_name": "Python 3",
   "language": "python",
   "name": "python3"
  },
  "language_info": {
   "codemirror_mode": {
    "name": "ipython",
    "version": 3
   },
   "file_extension": ".py",
   "mimetype": "text/x-python",
   "name": "python",
   "nbconvert_exporter": "python",
   "pygments_lexer": "ipython3",
   "version": "3.7.3"
  }
 },
 "nbformat": 4,
 "nbformat_minor": 2
}
